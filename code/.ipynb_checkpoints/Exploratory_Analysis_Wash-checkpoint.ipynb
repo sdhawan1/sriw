{
 "metadata": {
  "name": ""
 },
 "nbformat": 3,
 "nbformat_minor": 0,
 "worksheets": [
  {
   "cells": [
    {
     "cell_type": "code",
     "collapsed": false,
     "input": [
      "#This cell converts raw htmls into text files with only the important text of the letter.\n",
      "#repeat the adams exploratory analysis for washington\n",
      "\n",
      "import os\n",
      "from bs4 import BeautifulSoup\n",
      "\n",
      "#current location is sr_iw/code. Need to get to sr_iw/data/crawling/adams\n",
      "wash_data_path = os.path.abspath(os.getcwd() + '/../data/crawling/washington')\n",
      "wash_op_path = os.path.abspath(os.getcwd() + '/../data/crawling/washington_text')\n",
      "\n",
      "\n",
      "#start by experimenting on washington_1\n",
      "f = open(wash_data_path + '/washington_4')\n",
      "wash1txt = f.read()\n",
      "wash1soup = BeautifulSoup(wash1txt, 'html.parser')\n",
      "\n",
      "print wash1soup.find(\"div\", {\"class\": \"docbody\"}).get_text()\n"
     ],
     "language": "python",
     "metadata": {},
     "outputs": [
      {
       "output_type": "stream",
       "stream": "stdout",
       "text": [
        "\n",
        "\n",
        "\n",
        "\n",
        "[SeptemberNovember 1749]\n",
        "\n",
        "\n",
        "\n",
        "I heartily Congratulate you on the happy News of my Brothers safe arrival in health in England5 and am joyd to hear that his stay is likely to be so short I hope youl make Use of your Natural Resolution and contendness as they are the only Remedys to spend the time with ease & pleasure to yourself. I am deprived of the pleasure of waiting on you (as I expected) by Aguee and Feaver which I have had to Extremety since I left which has occasioned my Return D[own].6\n",
        "\n"
       ]
      }
     ],
     "prompt_number": 6
    },
    {
     "cell_type": "code",
     "collapsed": false,
     "input": [
      "#perform the procedure above on all raw html files, and store the result in raw text files.\n",
      "# SHOULD NEVER NEED TO RUN THIS AGAIN\n",
      "\n",
      "import os\n",
      "from bs4 import BeautifulSoup\n",
      "\n",
      "#current location is sr_iw/code. Need to get to sr_iw/data/crawling/adams\n",
      "wash_data_path = os.path.abspath(os.getcwd() + '/../data/crawling/washington')\n",
      "wash_op_path = os.path.abspath(os.getcwd() + '/../data/crawling/washington_text')\n",
      "\n",
      "#5213 is the number of raw html files in the directory \"washington\".\n",
      "for i in range(5213):\n",
      "    #check if the given file exists in the target directory\n",
      "    if os.path.isfile(wash_op_path + '/washington_' + str(i)):\n",
      "        continue\n",
      "       \n",
      "    \n",
      "    #if the given file does not exist in the target directory, open the html file and convert text to bfsoup.\n",
      "    f = open(wash_data_path + '/washington_' + str(i))\n",
      "    washtxt = f.read()\n",
      "    washsoup = BeautifulSoup(washtxt, 'html.parser')\n",
      "    \n",
      "    #for all the given files, extract the raw text from the file. If none can be extracted, just print [[none]]    \n",
      "    try:        \n",
      "        text = washsoup.find(\"div\", {\"class\": \"docbody\"}).get_text()\n",
      "    except:\n",
      "        text = \"[[none]]\"\n",
      "    f.close()\n",
      "    \n",
      "    #put the extracted text in a new file in the new directory.\n",
      "    fout = open(wash_op_path + '/wash_' + str(i), 'w')\n",
      "    fout.write(text)\n",
      "    fout.close()\n"
     ],
     "language": "python",
     "metadata": {},
     "outputs": [],
     "prompt_number": 10
    },
    {
     "cell_type": "code",
     "collapsed": false,
     "input": [
      "#now, want to look at words used most commonly by washington.\n",
      "\n",
      "import nltk\n",
      "from nltk.corpus import stopwords\n",
      "from nltk.probability import FreqDist\n",
      "import os\n",
      "\n",
      "wash_text_path = os.path.abspath(os.getcwd() + '/../data/crawling/washington_text')\n",
      "txtfiles = os.listdir(wash_text_path)\n",
      "\n",
      "washfd = FreqDist()\n",
      "\n",
      "#loop through all collected text files, and put all words in FreqDist\n",
      "for fname in txtfiles:\n",
      "    f = open(wash_text_path + '/' + fname)\n",
      "    fwds = f.read().split()\n",
      "    for w in fwds:\n",
      "        if w.isalpha():\n",
      "            washfd.inc(w.lower())\n",
      "    f.close()\n",
      "\n",
      "#finally, remove all stopwords from the FreqDist (english and french)\n",
      "for w in stopwords.words('english'):\n",
      "    if w in washfd.keys():\n",
      "        washfd[w] = 0\n",
      "        \n",
      "for w in stopwords.words('french'):\n",
      "    if w in washfd.keys():\n",
      "        washfd[w] = 0\n",
      "\n",
      "#print a list of the 50 most commonly used words\n",
      "print washfd.most_common(50)\n",
      "# print total unique words used.\n",
      "print ''\n",
      "print 'Total number of unique words used: ',\n",
      "print len(washfd)\n",
      "\n",
      "#now, find the total number of words (not necessarily unique) and print them out\n",
      "total_wds = 0\n",
      "for w in washfd:\n",
      "    total_wds += washfd[w]\n",
      "print ''\n",
      "print 'Total word count: ' + str(total_wds)"
     ],
     "language": "python",
     "metadata": {},
     "outputs": [
      {
       "output_type": "stream",
       "stream": "stdout",
       "text": [
        "[('may', 5495), ('mr', 5117), ('shall', 4067), ('upon', 3617), ('sir', 3199), ('one', 3026), ('would', 2557), ('men', 2525), ('general', 2428), ('time', 2426), ('great', 2378), ('much', 2317), ('must', 2262), ('washington', 2111), ('two', 2108), ('every', 2029), ('think', 1966), ('sent', 1954), ('ditto', 1867), ('good', 1863), ('last', 1790), ('made', 1776), ('letter', 1742), ('officers', 1724), ('make', 1700), ('give', 1674), ('yr', 1674), ('send', 1671), ('take', 1662), ('hope', 1567), ('fort', 1551), ('new', 1510), ('servt', 1493), ('without', 1432), ('best', 1431), ('order', 1430), ('john', 1395), ('well', 1368), ('know', 1358), ('woud', 1304), ('pr', 1299), ('soon', 1294), ('first', 1286), ('pay', 1274), ('part', 1257), ('many', 1221), ('also', 1205), ('day', 1186), ('orders', 1186), ('could', 1178)]\n"
       ]
      }
     ],
     "prompt_number": 1
    },
    {
     "cell_type": "code",
     "collapsed": false,
     "input": [
      "#print out Washington's most common words into a file\n",
      "f = open('wash_words_nostop', 'w')\n",
      "rank = 0\n",
      "for w in washfd.items():\n",
      "    f.write(w[0] + ' ' + str(rank) + '\\n')\n",
      "    rank += 1\n",
      "f.close()\n"
     ],
     "language": "python",
     "metadata": {},
     "outputs": [],
     "prompt_number": 3
    },
    {
     "cell_type": "code",
     "collapsed": false,
     "input": [
      "#want to see all (or more of) Washington's words\n",
      "print washfd.items()[:200]"
     ],
     "language": "python",
     "metadata": {},
     "outputs": [
      {
       "output_type": "stream",
       "stream": "stdout",
       "text": [
        "[('may', 5495), ('mr', 5117), ('shall', 4067), ('upon', 3617), ('sir', 3199), ('one', 3026), ('would', 2557), ('men', 2525), ('general', 2428), ('time', 2426), ('great', 2378), ('much', 2317), ('must', 2262), ('washington', 2111), ('two', 2108), ('every', 2029), ('think', 1966), ('sent', 1954), ('ditto', 1867), ('good', 1863), ('last', 1790), ('made', 1776), ('letter', 1742), ('officers', 1724), ('make', 1700), ('give', 1674), ('yr', 1674), ('send', 1671), ('take', 1662), ('hope', 1567), ('fort', 1551), ('new', 1510), ('servt', 1493), ('without', 1432), ('best', 1431), ('order', 1430), ('john', 1395), ('well', 1368), ('know', 1358), ('woud', 1304), ('pr', 1299), ('soon', 1294), ('first', 1286), ('pay', 1274), ('part', 1257), ('many', 1221), ('also', 1205), ('day', 1186), ('orders', 1186), ('could', 1178), ('shoud', 1173), ('place', 1155), ('dear', 1136), ('march', 1114), ('money', 1114), ('little', 1099), ('said', 1084), ('therefore', 1081), ('see', 1061), ('acct', 1059), ('get', 1036), ('till', 1031), ('return', 1026), ('since', 1026), ('taken', 1023), ('present', 1018), ('proper', 1009), ('come', 1008), ('might', 1003), ('us', 1001), ('number', 1000), ('necessary', 996), ('given', 986), ('receive', 968), ('troops', 947), ('mrs', 938), ('left', 932), ('three', 924), ('obedt', 913), ('leave', 912), ('land', 907), ('immediately', 897), ('cash', 889), ('court', 889), ('several', 872), ('paid', 855), ('yet', 854), ('cannot', 853), ('go', 852), ('country', 851), ('find', 850), ('dr', 847), ('captain', 845), ('thing', 843), ('congress', 833), ('received', 827), ('please', 819), ('put', 818), ('done', 814), ('nothing', 813), ('small', 805), ('excellency', 800), ('humble', 797), ('officer', 797), ('whole', 792), ('wrote', 784), ('days', 782), ('people', 777), ('came', 776), ('man', 774), ('want', 773), ('beg', 767), ('head', 760), ('service', 760), ('wish', 753), ('power', 744), ('expect', 738), ('genl', 728), ('hble', 724), ('long', 722), ('captn', 719), ('george', 714), ('next', 712), ('company', 705), ('case', 702), ('never', 695), ('thought', 695), ('army', 691), ('april', 685), ('person', 684), ('whether', 674), ('believe', 673), ('favour', 673), ('regiment', 666), ('got', 665), ('command', 658), ('large', 656), ('use', 655), ('town', 650), ('camp', 648), ('able', 645), ('william', 644), ('way', 643), ('virginia', 642), ('care', 634), ('near', 634), ('indians', 632), ('account', 631), ('let', 628), ('ordered', 620), ('ever', 613), ('july', 609), ('regard', 605), ('respect', 600), ('answer', 597), ('doubt', 594), ('glad', 590), ('colonel', 588), ('pleasure', 588), ('coud', 587), ('enemy', 585), ('letters', 582), ('better', 581), ('manner', 581), ('june', 580), ('found', 571), ('dozn', 567), ('say', 564), ('james', 560), ('matter', 555), ('least', 552), ('wm', 550), ('desire', 548), ('hear', 547), ('kind', 547), ('recd', 547), ('hundred', 544), ('reason', 544), ('inform', 542), ('opinion', 541), ('four', 533), ('honor', 533), ('far', 532), ('set', 528), ('particular', 525), ('provisions', 517), ('servant', 513), ('keep', 509), ('house', 506), ('obliged', 506), ('major', 495), ('river', 494), ('means', 493), ('soldiers', 493), ('another', 492), ('mutilated', 492), ('duty', 490), ('excellencys', 489), ('prevent', 487), ('remain', 487)]\n"
       ]
      }
     ],
     "prompt_number": 12
    }
   ],
   "metadata": {}
  }
 ]
}