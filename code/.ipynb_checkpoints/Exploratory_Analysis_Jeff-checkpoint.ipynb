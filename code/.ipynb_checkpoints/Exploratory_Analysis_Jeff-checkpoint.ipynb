{
 "metadata": {
  "name": ""
 },
 "nbformat": 3,
 "nbformat_minor": 0,
 "worksheets": [
  {
   "cells": [
    {
     "cell_type": "code",
     "collapsed": false,
     "input": [
      "#for Jefferson's letters, convert html to .txt files (just like wash and adams.)\n",
      "import os\n",
      "from bs4 import BeautifulSoup\n",
      "\n",
      "#current location is sr_iw/code. Need to get to sr_iw/data/crawling/adams\n",
      "jeff_data_path = os.path.abspath(os.getcwd() + '/../data/crawling/jefferson')\n",
      "jeff_op_path = os.path.abspath(os.getcwd() + '/../data/crawling/jefferson_text')\n",
      "\n",
      "\n",
      "#start by experimenting on washington_1\n",
      "f = open(jeff_data_path + '/jefferson_4')\n",
      "jeff1txt = f.read()\n",
      "jeff1soup = BeautifulSoup(jeff1txt, 'html.parser')\n",
      "\n",
      "print jeff1soup.find(\"div\", {\"class\": \"docbody\"}).get_text()\n"
     ],
     "language": "python",
     "metadata": {},
     "outputs": [
      {
       "output_type": "stream",
       "stream": "stdout",
       "text": [
        "\n",
        "\n",
        "\n",
        "\n",
        "Dear Page\n",
        "Williamsburg, October 7, 1763.\n",
        "\n",
        "\n",
        "\n",
        "In the most melancholy fit that ever any poor soul was, I sit down to write to you. Last night, as merry as agreeable company and dancing with Belinda in the Apollo could make me, I never could have thought the succeeding sun would have seen me so wretched as I now am! I was prepared to say a great deal: I had dressed up in my own mind, such thoughts as occurred to me, in as moving language as I knew how, and expected to have performed in a tolerably creditable manner. But, good God! When I had an opportunity of venting them, a few broken sentences, uttered in great disorder, and interrupted with pauses of uncommon length, were the too visible marks of my strange confusion! The whole confab I will tell you, word for word, if I can, when I see you, [12] which God send may be soon. Affairs at W. and M. are in the greatest confusion. Walker, MClurg and Wat Jones are expelled pro tempore, or, as Horrox softens it, rusticated for a month. Lewis Burwell, Warner Lewis, and one Thompson have fled to escape flagellation. I should have excepted Warner Lewis, who came off of his own accord. Jack Walker leaves town on Monday. The court is now at hand, which I must attend constantly, so that unless you come to town, there is little probability of my meeting with you any where else. For Gods sake come. I am, dear Page, Your sincere friend,\n",
        "\n",
        "T. Jefferson\n",
        "\n",
        "\n"
       ]
      }
     ],
     "prompt_number": 4
    },
    {
     "cell_type": "code",
     "collapsed": false,
     "input": [
      "#perform the procedure above on all raw html files, and store the result in raw text files.\n",
      "# SHOULD NEVER NEED TO RUN THIS AGAIN\n",
      "\n",
      "import os\n",
      "from bs4 import BeautifulSoup\n",
      "\n",
      "#current location is sr_iw/code. Need to get to sr_iw/data/crawling/adams\n",
      "jeff_data_path = os.path.abspath(os.getcwd() + '/../data/crawling/jefferson')\n",
      "jeff_op_path = os.path.abspath(os.getcwd() + '/../data/crawling/jefferson_text')\n",
      "\n",
      "#4330 is the number of raw html files in the directory \"jefferson\".\n",
      "for i in range(4330):\n",
      "    #check if the given file exists in the target directory\n",
      "    if os.path.isfile(jeff_op_path + '/jefferson_' + str(i)):\n",
      "        continue\n",
      "       \n",
      "    \n",
      "    #if the file doesn't exist in the directory, insert a \"null\" placeholder.\n",
      "    if not os.path.isfile(jeff_data_path + '/jefferson_' + str(i)):\n",
      "        fout = open(jeff_op_path + '/jeff_' + str(i), 'w')\n",
      "        fout.write(\"[[none]]\")\n",
      "        fout.close()\n",
      "        continue\n",
      "\n",
      "    #if the given file does exist in the target directory, open the html file and convert text to bfsoup.\n",
      "    f = open(jeff_data_path + '/jefferson_' + str(i))\n",
      "    jefftxt = f.read()\n",
      "    jeffsoup = BeautifulSoup(jefftxt, 'html.parser')\n",
      "    \n",
      "    #for all the given files, extract the raw text from the file. If none can be extracted, just print [[none]]    \n",
      "    try:\n",
      "        text = jeffsoup.find(\"div\", {\"class\": \"docbody\"}).get_text()\n",
      "    except:\n",
      "        text = \"[[none]]\"\n",
      "    f.close()\n",
      "    \n",
      "    #put the extracted text in a new file in the new directory.\n",
      "    fout = open(jeff_op_path + '/jeff_' + str(i), 'w')\n",
      "    fout.write(text)\n",
      "    fout.close()\n"
     ],
     "language": "python",
     "metadata": {},
     "outputs": [],
     "prompt_number": 8
    },
    {
     "cell_type": "code",
     "collapsed": false,
     "input": [
      "#[NOTE: AR: NEED TO FILTER OUT JEFFERSON'S FRENCH LETTERS, TOO]"
     ],
     "language": "python",
     "metadata": {},
     "outputs": []
    }
   ],
   "metadata": {}
  }
 ]
}